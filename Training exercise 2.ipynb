{
 "cells": [
  {
   "cell_type": "code",
   "execution_count": 1,
   "metadata": {},
   "outputs": [],
   "source": [
    "# Create the most suiteble data structures to the data in the next cell."
   ]
  },
  {
   "cell_type": "code",
   "execution_count": 1,
   "metadata": {},
   "outputs": [
    {
     "ename": "NameError",
     "evalue": "name 'a' is not defined",
     "output_type": "error",
     "traceback": [
      "\u001b[0;31m---------------------------------------------------------------------------\u001b[0m",
      "\u001b[0;31mNameError\u001b[0m                                 Traceback (most recent call last)",
      "\u001b[0;32m<ipython-input-1-81cb98ccea04>\u001b[0m in \u001b[0;36m<module>\u001b[0;34m\u001b[0m\n\u001b[0;32m----> 1\u001b[0;31m \u001b[0ma\u001b[0m\u001b[0;34m[\u001b[0m\u001b[0;36m1104\u001b[0m\u001b[0;34m]\u001b[0m\u001b[0;34m=\u001b[0m\u001b[0;34m\"Universidade do Porto - Faculdade de Economia\"\u001b[0m\u001b[0;34m\u001b[0m\u001b[0;34m\u001b[0m\u001b[0m\n\u001b[0m\u001b[1;32m      2\u001b[0m \u001b[0ma\u001b[0m\u001b[0;34m[\u001b[0m\u001b[0;36m904\u001b[0m\u001b[0;34m]\u001b[0m\u001b[0;34m=\u001b[0m\u001b[0;34m\"Universidade Nova de Lisboa - Faculdade de Economia\"\u001b[0m\u001b[0;34m\u001b[0m\u001b[0;34m\u001b[0m\u001b[0m\n\u001b[1;32m      3\u001b[0m \u001b[0ma\u001b[0m\u001b[0;34m[\u001b[0m\u001b[0;36m1000\u001b[0m\u001b[0;34m]\u001b[0m\u001b[0;34m=\u001b[0m\u001b[0;34m\"Universidade do Minho\"\u001b[0m\u001b[0;34m\u001b[0m\u001b[0;34m\u001b[0m\u001b[0m\n\u001b[1;32m      4\u001b[0m \u001b[0ma\u001b[0m\u001b[0;34m[\u001b[0m\u001b[0;36m6800\u001b[0m\u001b[0;34m]\u001b[0m\u001b[0;34m=\u001b[0m\u001b[0;34m\"ISCTE - Instituto Universitário de Lisboa\"\u001b[0m\u001b[0;34m\u001b[0m\u001b[0;34m\u001b[0m\u001b[0m\n\u001b[1;32m      5\u001b[0m \u001b[0ma\u001b[0m\u001b[0;34m[\u001b[0m\u001b[0;36m300\u001b[0m\u001b[0;34m]\u001b[0m\u001b[0;34m=\u001b[0m\u001b[0;34m\"Universidade de Aveiro\"\u001b[0m\u001b[0;34m\u001b[0m\u001b[0;34m\u001b[0m\u001b[0m\n",
      "\u001b[0;31mNameError\u001b[0m: name 'a' is not defined"
     ]
    }
   ],
   "source": [
    "\n",
    "a[1104]=\"Universidade do Porto - Faculdade de Economia\" \n",
    "a[904]=\"Universidade Nova de Lisboa - Faculdade de Economia\" \n",
    "a[1000]=\"Universidade do Minho\"\n",
    "a[6800]=\"ISCTE - Instituto Universitário de Lisboa\" \n",
    "a[300]=\"Universidade de Aveiro\"\n",
    "a[503]=\"Universidade de Coimbra - Faculdade de Economia\" \n",
    "a[1517]=\"Universidade de Lisboa - Instituto Superior de Economia e Gestão\" \n",
    "a[1202]=\"Universidade de Trás-os-Montes e Alto Douro - Escola de Ciências\" \n",
    "a[3117]=\"Instituto Politécnico de Lisboa - Instituto Superior de Contabili\" \n",
    "a[400]=\"Universidade da Beira Interior\"\n",
    "a[604]=\"Universidade de Évora - Escola de Ciências Sociais\" \n",
    "a[3163]=\"Instituto Politécnico de Viana do Castelo - Escola Superior de Te\" \n",
    "a[1308]=\"Universidade da Madeira - Faculdade de Ciências Sociais\" \n",
    "a[3102]=\"Instituto Politécnico de Leiria - Escola Superior de Tecnologia e\" \n",
    "a[3065]=\"Instituto Politécnico de Coimbra - Escola Superior de Tecnologia\" \n",
    "a[3082]=\"Universidade do Algarve - Escola Superior de Gestão, Hotelaria e\" \n",
    "a[170]=\"Universidade dos Açores - Faculdade de Economia e Gestão\" \n",
    "a[3043]=\"Instituto Politécnico de Bragança - Escola Superior de Tecnologia\" \n",
    "a[3087]=\"Universidade do Algarve - Escola Superior de Gestão, Hotelaria e\" \n",
    "a[3092]=\"Instituto Politécnico da Guarda - Escola Superior de Tecnologia e\" \n",
    "a[3122]=\"Instituto Politécnico de Portalegre - Escola Superior de Tecnolog\" \n",
    "a[3054]=\"Instituto Politécnico de Castelo Branco - Escola Superior de Gest\"\n",
    "grade[1104]=185.0 \n",
    "grade[904]=182.0 \n",
    "grade[1000]=176.4 \n",
    "grade[6800]=173.5 \n",
    "grade[300]=171.8 \n",
    "grade[503]=169.0 \n",
    "grade[1517]=167.5 \n",
    "grade[1202]=157.8 \n",
    "grade[3117]=156.1 \n",
    "grade[400]=152.0 \n",
    "grade[604]=146.4 \n",
    "grade[3163]=144.2 \n",
    "grade[1308]=143.9 \n",
    "grade[3102]=140.0 \n",
    "grade[3065]=138.2 \n",
    "grade[3082]=133.3 \n",
    "grade[170]=133.2 \n",
    "grade[3043]=125.4 \n",
    "grade[3087]=123.5 \n",
    "grade[3092]=112.6 \n",
    "grade[3122]=109.7"
   ]
  },
  {
   "cell_type": "code",
   "execution_count": null,
   "metadata": {},
   "outputs": [],
   "source": []
  },
  {
   "cell_type": "code",
   "execution_count": null,
   "metadata": {},
   "outputs": [],
   "source": [
    "#How many schools have the program of Gestao?"
   ]
  }
 ],
 "metadata": {
  "kernelspec": {
   "display_name": "Python 3",
   "language": "python",
   "name": "python3"
  },
  "language_info": {
   "codemirror_mode": {
    "name": "ipython",
    "version": 3
   },
   "file_extension": ".py",
   "mimetype": "text/x-python",
   "name": "python",
   "nbconvert_exporter": "python",
   "pygments_lexer": "ipython3",
   "version": "3.8.3"
  }
 },
 "nbformat": 4,
 "nbformat_minor": 4
}
