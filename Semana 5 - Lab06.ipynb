{
 "cells": [
  {
   "cell_type": "code",
   "execution_count": 13,
   "metadata": {},
   "outputs": [],
   "source": [
    "#Supose you have the follwoing cashflow\n",
    "CFList=[-1000,100,200,300,400,500]\n",
    "rate=float(0.2)\n",
    "invest=1000"
   ]
  },
  {
   "cell_type": "code",
   "execution_count": 2,
   "metadata": {},
   "outputs": [],
   "source": [
    "#calcule the NPV sugestion: iterate both by index and value using enumerate"
   ]
  },
  {
   "cell_type": "code",
   "execution_count": 10,
   "metadata": {},
   "outputs": [
    {
     "name": "stdout",
     "output_type": "stream",
     "text": [
      "CF 0: -1000\n",
      "CF 1: 100\n",
      "CF 2: 200\n",
      "CF 3: 300\n",
      "CF 4: 400\n",
      "CF 5: 500\n"
     ]
    }
   ],
   "source": [
    "for num, CF in enumerate(CFList,start=0):\n",
    "    print(\"CF {}: {}\".format(num,CF))"
   ]
  },
  {
   "cell_type": "code",
   "execution_count": 11,
   "metadata": {},
   "outputs": [],
   "source": [
    "def NPV(rate,CF):\n",
    "    total = 0.0\n",
    "    for num, CF in enumerate(CFList):\n",
    "        total += CF / (1+rate)**num\n",
    "    return total"
   ]
  },
  {
   "cell_type": "code",
   "execution_count": 12,
   "metadata": {},
   "outputs": [
    {
     "data": {
      "text/plain": [
       "-210.32664609053475"
      ]
     },
     "execution_count": 12,
     "metadata": {},
     "output_type": "execute_result"
    }
   ],
   "source": [
    "NPV(rate,CF)"
   ]
  },
  {
   "cell_type": "code",
   "execution_count": 16,
   "metadata": {},
   "outputs": [
    {
     "data": {
      "text/plain": [
       "0.3999599200000001"
      ]
     },
     "execution_count": 16,
     "metadata": {},
     "output_type": "execute_result"
    }
   ],
   "source": [
    "IRR= rate*(1-NPV(CF, rate)/invest)\n",
    "IRR"
   ]
  },
  {
   "cell_type": "code",
   "execution_count": 19,
   "metadata": {},
   "outputs": [],
   "source": [
    "def IRR(CFList):\n",
    "    taxa=1\n",
    "    investimento=CFList[0]\n",
    "    for num in range(1, 5):\n",
    "        taxa*=(1-NPV(taxa,CF)/investimento)\n",
    "    return taxa"
   ]
  },
  {
   "cell_type": "code",
   "execution_count": 20,
   "metadata": {},
   "outputs": [
    {
     "data": {
      "text/plain": [
       "12.99"
      ]
     },
     "execution_count": 20,
     "metadata": {},
     "output_type": "execute_result"
    }
   ],
   "source": [
    "round(IRR(CFList)*100,2)"
   ]
  },
  {
   "cell_type": "code",
   "execution_count": 25,
   "metadata": {},
   "outputs": [],
   "source": [
    "def PAYBACK(CFList):\n",
    "    years=0\n",
    "    invest=CFList[0]\n",
    "    for num in range(1,5):\n",
    "        years+=(-invest/CF)\n",
    "    return years"
   ]
  },
  {
   "cell_type": "code",
   "execution_count": 26,
   "metadata": {},
   "outputs": [
    {
     "data": {
      "text/plain": [
       "8.0"
      ]
     },
     "execution_count": 26,
     "metadata": {},
     "output_type": "execute_result"
    }
   ],
   "source": [
    "PAYBACK(CFList)"
   ]
  },
  {
   "cell_type": "code",
   "execution_count": null,
   "metadata": {},
   "outputs": [],
   "source": []
  }
 ],
 "metadata": {
  "kernelspec": {
   "display_name": "Python 3",
   "language": "python",
   "name": "python3"
  },
  "language_info": {
   "codemirror_mode": {
    "name": "ipython",
    "version": 3
   },
   "file_extension": ".py",
   "mimetype": "text/x-python",
   "name": "python",
   "nbconvert_exporter": "python",
   "pygments_lexer": "ipython3",
   "version": "3.8.3"
  }
 },
 "nbformat": 4,
 "nbformat_minor": 4
}
